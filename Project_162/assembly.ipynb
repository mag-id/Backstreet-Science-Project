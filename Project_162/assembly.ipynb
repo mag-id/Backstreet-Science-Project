{
 "cells": [
  {
   "cell_type": "code",
   "execution_count": null,
   "metadata": {},
   "outputs": [],
   "source": [
    "# MOP_files_generator_2_frostmourne.ipynb"
   ]
  },
  {
   "cell_type": "code",
   "execution_count": null,
   "metadata": {},
   "outputs": [],
   "source": [
    "def mop_input_generator(newpath, num_mol):\n",
    "    # I have no cluqe how it works\n",
    "    # TODO: But try to refactor it later\n",
    "    \n",
    "    from tqdm import tqdm\n",
    "    from biopandas.mol2 import PandasMol2\n",
    "    from biopandas.mol2 import split_multimol2\n",
    "    \n",
    "    f = 0\n",
    "    i = 0\n",
    "    trashhold = 0.5\n",
    "    \n",
    "    for mol2 in tqdm(split_multimol2(str(filename))):\n",
    "        try:\n",
    "            cur_molecule = PandasMol2().read_mol2_from_list(mol2_lines=mol2[1], mol2_code=mol2[0])\n",
    "            atom_coordinates = []\n",
    "            data = cur_molecule.df[['atom_name','x', 'y', 'z']]\n",
    "        \n",
    "            active_list = [1 for i in range(ligand_atoms)]\n",
    "            frozen_list = [0 for j in range(ligand_atoms,len(data.loc[:,('atom_name')]),1)]\n",
    "            active_list.extend((frozen_list))\n",
    "        \n",
    "            for index, row in data.iterrows():\n",
    "                atom_coordinates.append((row['x'],row['y'],row['z']))\n",
    "            print(len(atom_coordinates))\n",
    "            data.loc[:,('atom_name')] = data['atom_name'].apply(lambda x: x[0])\n",
    "            data.insert(2,\"1_1\", active_list, True)\n",
    "            data.insert(4,\"1_2\", active_list, True)\n",
    "            data.insert(6,\"1_3\", active_list, True)\n",
    "        \n",
    "            with open(str(newpath)+'/conformer_' + str(i) + '.mop', 'w+') as d:\n",
    "                print(' AUX LARGE PM6-D3H4X CHARGE=' + str(charge), file = d)\n",
    "                print('Conformer '+str(i) + '\\n', file = d)\n",
    "                for index, row in data.iterrows():\n",
    "                    for crd in range(len(atom_coordinates)):\n",
    "                        distance = ((row['x']-atom_coordinates[crd][0])**2+(row['y']-atom_coordinates[crd][1])**2+(row['z']-atom_coordinates[crd][2])**2)\n",
    "                        if distance>=trashhold**2 or distance == 0:\n",
    "                            if crd == len(atom_coordinates)-1:\n",
    "                                print('   ' + row['atom_name'],row['x'],row['1_1'],row['y'],row['1_2'],row['z'],row['1_3'], sep = \"\\t\", end = \"\\n\", file = d)\n",
    "                            else:\n",
    "                                continue\n",
    "                        else:\n",
    "                            break\n",
    "                print('', file = d)\n",
    "                print('  OLDGEO INVERT AUX LARGE PM6-D3H4X CHARGE=' + str(charge) + '\\n',file = d)\n",
    "            data.to_csv(str(newpath)+'/conformer_' + str(i) + '.csv')\n",
    "            i+=1\n",
    "        except:\n",
    "            f+=1\n",
    "    print(str(f) + ' conformer(s) from '+ str(num_mol)+ ' were ignored')"
   ]
  },
  {
   "cell_type": "code",
   "execution_count": 1,
   "metadata": {
    "scrolled": false
   },
   "outputs": [],
   "source": [
    "def count_molecules(filepath: str) -> int:\n",
    "    with open(filepath, 'r') as f:\n",
    "        _count = 0\n",
    "        _lines = f.readlines()\n",
    "        for _line in _lines:\n",
    "            if '@<TRIPOS>MOLECULE' in _line:\n",
    "                _count += 1\n",
    "    return _count"
   ]
  },
  {
   "cell_type": "code",
   "execution_count": 4,
   "metadata": {},
   "outputs": [],
   "source": [
    "import os\n",
    "from tkinter import filedialog as fd"
   ]
  },
  {
   "cell_type": "code",
   "execution_count": null,
   "metadata": {},
   "outputs": [],
   "source": [
    "charge = int(input('molecule charge: '))\n",
    "ligand_atoms = int(input('ligand atoms number: '))\n",
    "\n",
    "filepath = fd.askopenfilename()\n",
    "print(f'filepath: {filepath}')\n",
    "\n",
    "savepath = fd.askdirectory()\n",
    "print(f'savepath: {savepath}')\n",
    "\n",
    "os.mkdirs(savepath)"
   ]
  },
  {
   "cell_type": "code",
   "execution_count": null,
   "metadata": {},
   "outputs": [],
   "source": [
    "mop_input_generator(savepath, count_molecules(filepath))"
   ]
  },
  {
   "cell_type": "code",
   "execution_count": null,
   "metadata": {},
   "outputs": [],
   "source": [
    "def mop_to_sdf():\n",
    "    # TODO: Write it\n",
    "    pass"
   ]
  },
  {
   "cell_type": "code",
   "execution_count": null,
   "metadata": {},
   "outputs": [],
   "source": [
    "mop_to_sdf()"
   ]
  },
  {
   "cell_type": "code",
   "execution_count": null,
   "metadata": {},
   "outputs": [],
   "source": [
    "# MOP_out_parser_NoTherm.ipynb"
   ]
  },
  {
   "cell_type": "code",
   "execution_count": null,
   "metadata": {},
   "outputs": [],
   "source": [
    "# TODO: Continue"
   ]
  }
 ],
 "metadata": {
  "kernelspec": {
   "display_name": "Python 3",
   "language": "python",
   "name": "python3"
  },
  "language_info": {
   "codemirror_mode": {
    "name": "ipython",
    "version": 3
   },
   "file_extension": ".py",
   "mimetype": "text/x-python",
   "name": "python",
   "nbconvert_exporter": "python",
   "pygments_lexer": "ipython3",
   "version": "3.7.6"
  }
 },
 "nbformat": 4,
 "nbformat_minor": 4
}
